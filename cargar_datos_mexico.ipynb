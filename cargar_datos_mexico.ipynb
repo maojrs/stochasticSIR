{
 "cells": [
  {
   "cell_type": "code",
   "execution_count": 10,
   "metadata": {},
   "outputs": [],
   "source": [
    "import csv\n",
    "import datetime\n",
    "import matplotlib.pyplot as plt"
   ]
  },
  {
   "cell_type": "code",
   "execution_count": 11,
   "metadata": {},
   "outputs": [],
   "source": [
    "# Funcion para definir rango de fechas\n",
    "def daterange(start_date, end_date):\n",
    "    for n in range(int ((end_date - start_date).days)):\n",
    "        yield start_date + datetime.timedelta(n)"
   ]
  },
  {
   "cell_type": "code",
   "execution_count": 12,
   "metadata": {},
   "outputs": [],
   "source": [
    "# Extraccion de datos a la fecha\n",
    "dia = '29'\n",
    "mes = '05'\n",
    "filename = 'datos_mexico/20' + mes + dia + 'COVID19MEXICO.csv' \n",
    "fecha_inicio_pandemia = datetime.date(2020, 3, 1)\n",
    "fecha_actualizacion = datetime.date(2020, 5, 29)"
   ]
  },
  {
   "cell_type": "code",
   "execution_count": 13,
   "metadata": {},
   "outputs": [],
   "source": [
    "# Diccionarion que relaciona indice en la list con ente al que se refiere.\n",
    "indice_dict = {0:'FECHA_ACTUALIZACION', \n",
    "               1:'ID', \n",
    "               2:'ORIGEN', \n",
    "               3:'SECTOR', \n",
    "               4:'ENTIDAD', \n",
    "               5:'SEXO', \n",
    "               6:'ENTIDAD_NAC', \n",
    "               7:'ENTIDAD_RES', \n",
    "               8:'MUNICIPIO_RES', \n",
    "               9:'TIPO_PACIENTE', \n",
    "               10:'FECHA_INGRESO', \n",
    "               11:'FECHA_SINTOMAS', \n",
    "               12:'FECHA_DEF', \n",
    "               13:'INTUBADO', \n",
    "               14:'NEUMONIA', \n",
    "               15:'EDAD', \n",
    "               16:'NACIONALIDAD', \n",
    "               17:'EMBARAZO', \n",
    "               18:'HABLA_LENGUA_INDIG', \n",
    "               19:'DIABETES', \n",
    "               20:'EPOC', \n",
    "               21:'ASMA', \n",
    "               22:'INMUSUPR', \n",
    "               23:'HIPERTENSION', \n",
    "               24:'OTRA_COM', \n",
    "               25:'CARDIOVASCULAR', \n",
    "               26:'OBESIDAD', \n",
    "               27:'RENAL_CRONICA', \n",
    "               28:'TABAQUISMO', \n",
    "               29:'OTRO_CASO', \n",
    "               30:'RESULTADO', \n",
    "               31:'MIGRANTE', \n",
    "               32:'PAIS_NACIONALIDAD', \n",
    "               33:'PAIS_ORIGEN', \n",
    "               34:'UCI'}"
   ]
  },
  {
   "cell_type": "code",
   "execution_count": 14,
   "metadata": {},
   "outputs": [],
   "source": [
    "datos_covid_raw = []\n",
    "with open(filename, 'r', encoding='mac_roman') as file:\n",
    "    reader = csv.reader(file)\n",
    "    for row in reader:\n",
    "        datos_covid_raw.append(row)"
   ]
  },
  {
   "cell_type": "code",
   "execution_count": 23,
   "metadata": {},
   "outputs": [],
   "source": [
    "# Extraccion de casos positivos y defunciones\n",
    "num_pruebas = len(datos_covid_raw)\n",
    "num_defunciones = 0\n",
    "datos_covid_positivos = []\n",
    "for i in range(num_pruebas):\n",
    "    resultado = datos_covid_raw[i][30]\n",
    "    if resultado == '1':\n",
    "        fecha_ingreso = datetime.date(*map(int, datos_covid_raw[i][10].split('-')))\n",
    "        fecha_sintomas = datetime.date(*map(int, datos_covid_raw[i][11].split('-')))\n",
    "        if datos_covid_raw[i][12] == '9999-99-99':\n",
    "            fecha_defuncion = 0\n",
    "        else:\n",
    "            fecha_defuncion = datetime.date(*map(int, datos_covid_raw[i][12].split('-')))\n",
    "            num_defunciones = num_defunciones + 1\n",
    "        datos_covid_positivos.append([fecha_ingreso, fecha_sintomas, fecha_defuncion])\n",
    "        \n",
    "num_casos_positivos = len(datos_covid_positivos)"
   ]
  },
  {
   "cell_type": "code",
   "execution_count": 39,
   "metadata": {},
   "outputs": [],
   "source": [
    "# Calculo de casos activos por dia (calculados como los casos confirmados \n",
    "# que iniciaron síntomas en un periodo de 14 días anterior a la fecha establecida)\n",
    "datos_covid_activos = []\n",
    "for fecha in daterange(fecha_inicio_pandemia, fecha_actualizacion):\n",
    "    covid_activos = 0\n",
    "    for i in range(num_casos_positivos):\n",
    "        fecha_sintomas = datos_covid_positivos[i][1]\n",
    "        fecha_defuncion = datos_covid_positivos[i][2]\n",
    "        # Si no hubo defuncion y cumplen con el criterio de activo, contarlos\n",
    "        if (fecha_defuncion) == 0 and (fecha >= fecha_sintomas) and ( (fecha - fecha_sintomas).days <=14):\n",
    "            covid_activos = covid_activos + 1\n",
    "    datos_covid_activos.append([fecha, covid_activos])\n",
    "    #print(fecha.strftime(\"%Y-%m-%d\"))"
   ]
  },
  {
   "cell_type": "code",
   "execution_count": 40,
   "metadata": {},
   "outputs": [
    {
     "data": {
      "text/plain": [
       "[[datetime.date(2020, 3, 1), 17],\n",
       " [datetime.date(2020, 3, 2), 26],\n",
       " [datetime.date(2020, 3, 3), 30],\n",
       " [datetime.date(2020, 3, 4), 37],\n",
       " [datetime.date(2020, 3, 5), 43],\n",
       " [datetime.date(2020, 3, 6), 51],\n",
       " [datetime.date(2020, 3, 7), 71],\n",
       " [datetime.date(2020, 3, 8), 88],\n",
       " [datetime.date(2020, 3, 9), 147],\n",
       " [datetime.date(2020, 3, 10), 196],\n",
       " [datetime.date(2020, 3, 11), 246],\n",
       " [datetime.date(2020, 3, 12), 303],\n",
       " [datetime.date(2020, 3, 13), 383],\n",
       " [datetime.date(2020, 3, 14), 468],\n",
       " [datetime.date(2020, 3, 15), 555],\n",
       " [datetime.date(2020, 3, 16), 668],\n",
       " [datetime.date(2020, 3, 17), 756],\n",
       " [datetime.date(2020, 3, 18), 863],\n",
       " [datetime.date(2020, 3, 19), 954],\n",
       " [datetime.date(2020, 3, 20), 1102],\n",
       " [datetime.date(2020, 3, 21), 1199],\n",
       " [datetime.date(2020, 3, 22), 1291],\n",
       " [datetime.date(2020, 3, 23), 1454],\n",
       " [datetime.date(2020, 3, 24), 1541],\n",
       " [datetime.date(2020, 3, 25), 1657],\n",
       " [datetime.date(2020, 3, 26), 1807],\n",
       " [datetime.date(2020, 3, 27), 1988],\n",
       " [datetime.date(2020, 3, 28), 2127],\n",
       " [datetime.date(2020, 3, 29), 2244],\n",
       " [datetime.date(2020, 3, 30), 2464],\n",
       " [datetime.date(2020, 3, 31), 2592],\n",
       " [datetime.date(2020, 4, 1), 2862],\n",
       " [datetime.date(2020, 4, 2), 3094],\n",
       " [datetime.date(2020, 4, 3), 3343],\n",
       " [datetime.date(2020, 4, 4), 3552],\n",
       " [datetime.date(2020, 4, 5), 3800],\n",
       " [datetime.date(2020, 4, 6), 4149],\n",
       " [datetime.date(2020, 4, 7), 4359],\n",
       " [datetime.date(2020, 4, 8), 4694],\n",
       " [datetime.date(2020, 4, 9), 5041],\n",
       " [datetime.date(2020, 4, 10), 5621],\n",
       " [datetime.date(2020, 4, 11), 5974],\n",
       " [datetime.date(2020, 4, 12), 6374],\n",
       " [datetime.date(2020, 4, 13), 6931],\n",
       " [datetime.date(2020, 4, 14), 7364],\n",
       " [datetime.date(2020, 4, 15), 7958],\n",
       " [datetime.date(2020, 4, 16), 8430],\n",
       " [datetime.date(2020, 4, 17), 9032],\n",
       " [datetime.date(2020, 4, 18), 9705],\n",
       " [datetime.date(2020, 4, 19), 10268],\n",
       " [datetime.date(2020, 4, 20), 11427],\n",
       " [datetime.date(2020, 4, 21), 11959],\n",
       " [datetime.date(2020, 4, 22), 12587],\n",
       " [datetime.date(2020, 4, 23), 13185],\n",
       " [datetime.date(2020, 4, 24), 13935],\n",
       " [datetime.date(2020, 4, 25), 14460],\n",
       " [datetime.date(2020, 4, 26), 15075],\n",
       " [datetime.date(2020, 4, 27), 15909],\n",
       " [datetime.date(2020, 4, 28), 16450],\n",
       " [datetime.date(2020, 4, 29), 16879],\n",
       " [datetime.date(2020, 4, 30), 17622],\n",
       " [datetime.date(2020, 5, 1), 18953],\n",
       " [datetime.date(2020, 5, 2), 19579],\n",
       " [datetime.date(2020, 5, 3), 20054],\n",
       " [datetime.date(2020, 5, 4), 21037],\n",
       " [datetime.date(2020, 5, 5), 21385],\n",
       " [datetime.date(2020, 5, 6), 22092],\n",
       " [datetime.date(2020, 5, 7), 22997],\n",
       " [datetime.date(2020, 5, 8), 24128],\n",
       " [datetime.date(2020, 5, 9), 24814],\n",
       " [datetime.date(2020, 5, 10), 26073],\n",
       " [datetime.date(2020, 5, 11), 27281],\n",
       " [datetime.date(2020, 5, 12), 27947],\n",
       " [datetime.date(2020, 5, 13), 28642],\n",
       " [datetime.date(2020, 5, 14), 29493],\n",
       " [datetime.date(2020, 5, 15), 30747],\n",
       " [datetime.date(2020, 5, 16), 30723],\n",
       " [datetime.date(2020, 5, 17), 31187],\n",
       " [datetime.date(2020, 5, 18), 32314],\n",
       " [datetime.date(2020, 5, 19), 32385],\n",
       " [datetime.date(2020, 5, 20), 32585],\n",
       " [datetime.date(2020, 5, 21), 32074],\n",
       " [datetime.date(2020, 5, 22), 31388],\n",
       " [datetime.date(2020, 5, 23), 30100],\n",
       " [datetime.date(2020, 5, 24), 28804],\n",
       " [datetime.date(2020, 5, 25), 26702],\n",
       " [datetime.date(2020, 5, 26), 24512],\n",
       " [datetime.date(2020, 5, 27), 22456],\n",
       " [datetime.date(2020, 5, 28), 20461]]"
      ]
     },
     "execution_count": 40,
     "metadata": {},
     "output_type": "execute_result"
    }
   ],
   "source": [
    "datos_covid_activos"
   ]
  },
  {
   "cell_type": "code",
   "execution_count": 42,
   "metadata": {},
   "outputs": [
    {
     "data": {
      "text/plain": [
       "[<matplotlib.lines.Line2D at 0x7fb2aa3a49d0>]"
      ]
     },
     "execution_count": 42,
     "metadata": {},
     "output_type": "execute_result"
    },
    {
     "data": {
      "image/png": "[encoded data removed]",
      "text/plain": [
       "<Figure size 432x288 with 1 Axes>"
      ]
     },
     "metadata": {
      "needs_background": "light"
     },
     "output_type": "display_data"
    }
   ],
   "source": [
    "# Grafica de casos activos (sin tomar en cuenta los ultimos 14 dias que son estadisticamente inexactos)\n",
    "array_casos_activos = []\n",
    "array_dia = []\n",
    "for i in range(len(datos_covid_activos)-14): \n",
    "    array_dia.append(i)\n",
    "    array_casos_activos.append(datos_covid_activos[i][1])\n",
    "plt.plot(array_dia, array_casos_activos)"
   ]
  },
  {
   "cell_type": "code",
   "execution_count": 19,
   "metadata": {},
   "outputs": [
    {
     "data": {
      "text/plain": [
       "84627"
      ]
     },
     "execution_count": 19,
     "metadata": {},
     "output_type": "execute_result"
    }
   ],
   "source": [
    "num_casos_positivos"
   ]
  },
  {
   "cell_type": "code",
   "execution_count": 21,
   "metadata": {},
   "outputs": [
    {
     "data": {
      "text/plain": [
       "89"
      ]
     },
     "execution_count": 21,
     "metadata": {},
     "output_type": "execute_result"
    }
   ],
   "source": [
    "(fecha_actualizacion - fecha_inicio_pandemia).days"
   ]
  },
  {
   "cell_type": "code",
   "execution_count": null,
   "metadata": {},
   "outputs": [],
   "source": []
  }
 ],
 "metadata": {
  "kernelspec": {
   "display_name": "Python 3",
   "language": "python",
   "name": "python3"
  },
  "language_info": {
   "codemirror_mode": {
    "name": "ipython",
    "version": 3
   },
   "file_extension": ".py",
   "mimetype": "text/x-python",
   "name": "python",
   "nbconvert_exporter": "python",
   "pygments_lexer": "ipython3",
   "version": "3.7.4"
  }
 },
 "nbformat": 4,
 "nbformat_minor": 4
}
